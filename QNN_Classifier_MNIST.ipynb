{
  "nbformat": 4,
  "nbformat_minor": 0,
  "metadata": {
    "colab": {
      "provenance": [],
      "gpuType": "T4"
    },
    "kernelspec": {
      "name": "python3",
      "display_name": "Python 3"
    },
    "language_info": {
      "name": "python"
    },
    "accelerator": "GPU"
  },
  "cells": [
    {
      "cell_type": "code",
      "execution_count": 1,
      "metadata": {
        "colab": {
          "base_uri": "https://localhost:8080/"
        },
        "id": "cDkviRLlK-g3",
        "outputId": "53b29ae7-99de-4e6d-bbcc-15503e2e9243"
      },
      "outputs": [
        {
          "output_type": "stream",
          "name": "stdout",
          "text": [
            "Collecting tensorflow==2.15.0\n",
            "  Downloading tensorflow-2.15.0-cp310-cp310-manylinux_2_17_x86_64.manylinux2014_x86_64.whl.metadata (4.4 kB)\n",
            "Requirement already satisfied: absl-py>=1.0.0 in /usr/local/lib/python3.10/dist-packages (from tensorflow==2.15.0) (1.4.0)\n",
            "Requirement already satisfied: astunparse>=1.6.0 in /usr/local/lib/python3.10/dist-packages (from tensorflow==2.15.0) (1.6.3)\n",
            "Requirement already satisfied: flatbuffers>=23.5.26 in /usr/local/lib/python3.10/dist-packages (from tensorflow==2.15.0) (24.3.25)\n",
            "Requirement already satisfied: gast!=0.5.0,!=0.5.1,!=0.5.2,>=0.2.1 in /usr/local/lib/python3.10/dist-packages (from tensorflow==2.15.0) (0.6.0)\n",
            "Requirement already satisfied: google-pasta>=0.1.1 in /usr/local/lib/python3.10/dist-packages (from tensorflow==2.15.0) (0.2.0)\n",
            "Requirement already satisfied: h5py>=2.9.0 in /usr/local/lib/python3.10/dist-packages (from tensorflow==2.15.0) (3.11.0)\n",
            "Requirement already satisfied: libclang>=13.0.0 in /usr/local/lib/python3.10/dist-packages (from tensorflow==2.15.0) (18.1.1)\n",
            "Collecting ml-dtypes~=0.2.0 (from tensorflow==2.15.0)\n",
            "  Downloading ml_dtypes-0.2.0-cp310-cp310-manylinux_2_17_x86_64.manylinux2014_x86_64.whl.metadata (20 kB)\n",
            "Requirement already satisfied: numpy<2.0.0,>=1.23.5 in /usr/local/lib/python3.10/dist-packages (from tensorflow==2.15.0) (1.26.4)\n",
            "Requirement already satisfied: opt-einsum>=2.3.2 in /usr/local/lib/python3.10/dist-packages (from tensorflow==2.15.0) (3.3.0)\n",
            "Requirement already satisfied: packaging in /usr/local/lib/python3.10/dist-packages (from tensorflow==2.15.0) (24.1)\n",
            "Requirement already satisfied: protobuf!=4.21.0,!=4.21.1,!=4.21.2,!=4.21.3,!=4.21.4,!=4.21.5,<5.0.0dev,>=3.20.3 in /usr/local/lib/python3.10/dist-packages (from tensorflow==2.15.0) (3.20.3)\n",
            "Requirement already satisfied: setuptools in /usr/local/lib/python3.10/dist-packages (from tensorflow==2.15.0) (71.0.4)\n",
            "Requirement already satisfied: six>=1.12.0 in /usr/local/lib/python3.10/dist-packages (from tensorflow==2.15.0) (1.16.0)\n",
            "Requirement already satisfied: termcolor>=1.1.0 in /usr/local/lib/python3.10/dist-packages (from tensorflow==2.15.0) (2.4.0)\n",
            "Requirement already satisfied: typing-extensions>=3.6.6 in /usr/local/lib/python3.10/dist-packages (from tensorflow==2.15.0) (4.12.2)\n",
            "Collecting wrapt<1.15,>=1.11.0 (from tensorflow==2.15.0)\n",
            "  Downloading wrapt-1.14.1-cp310-cp310-manylinux_2_5_x86_64.manylinux1_x86_64.manylinux_2_17_x86_64.manylinux2014_x86_64.whl.metadata (6.7 kB)\n",
            "Requirement already satisfied: tensorflow-io-gcs-filesystem>=0.23.1 in /usr/local/lib/python3.10/dist-packages (from tensorflow==2.15.0) (0.37.1)\n",
            "Requirement already satisfied: grpcio<2.0,>=1.24.3 in /usr/local/lib/python3.10/dist-packages (from tensorflow==2.15.0) (1.64.1)\n",
            "Collecting tensorboard<2.16,>=2.15 (from tensorflow==2.15.0)\n",
            "  Downloading tensorboard-2.15.2-py3-none-any.whl.metadata (1.7 kB)\n",
            "Collecting tensorflow-estimator<2.16,>=2.15.0 (from tensorflow==2.15.0)\n",
            "  Downloading tensorflow_estimator-2.15.0-py2.py3-none-any.whl.metadata (1.3 kB)\n",
            "Collecting keras<2.16,>=2.15.0 (from tensorflow==2.15.0)\n",
            "  Downloading keras-2.15.0-py3-none-any.whl.metadata (2.4 kB)\n",
            "Requirement already satisfied: wheel<1.0,>=0.23.0 in /usr/local/lib/python3.10/dist-packages (from astunparse>=1.6.0->tensorflow==2.15.0) (0.44.0)\n",
            "Requirement already satisfied: google-auth<3,>=1.6.3 in /usr/local/lib/python3.10/dist-packages (from tensorboard<2.16,>=2.15->tensorflow==2.15.0) (2.27.0)\n",
            "Requirement already satisfied: google-auth-oauthlib<2,>=0.5 in /usr/local/lib/python3.10/dist-packages (from tensorboard<2.16,>=2.15->tensorflow==2.15.0) (1.2.1)\n",
            "Requirement already satisfied: markdown>=2.6.8 in /usr/local/lib/python3.10/dist-packages (from tensorboard<2.16,>=2.15->tensorflow==2.15.0) (3.7)\n",
            "Requirement already satisfied: requests<3,>=2.21.0 in /usr/local/lib/python3.10/dist-packages (from tensorboard<2.16,>=2.15->tensorflow==2.15.0) (2.32.3)\n",
            "Requirement already satisfied: tensorboard-data-server<0.8.0,>=0.7.0 in /usr/local/lib/python3.10/dist-packages (from tensorboard<2.16,>=2.15->tensorflow==2.15.0) (0.7.2)\n",
            "Requirement already satisfied: werkzeug>=1.0.1 in /usr/local/lib/python3.10/dist-packages (from tensorboard<2.16,>=2.15->tensorflow==2.15.0) (3.0.4)\n",
            "Requirement already satisfied: cachetools<6.0,>=2.0.0 in /usr/local/lib/python3.10/dist-packages (from google-auth<3,>=1.6.3->tensorboard<2.16,>=2.15->tensorflow==2.15.0) (5.5.0)\n",
            "Requirement already satisfied: pyasn1-modules>=0.2.1 in /usr/local/lib/python3.10/dist-packages (from google-auth<3,>=1.6.3->tensorboard<2.16,>=2.15->tensorflow==2.15.0) (0.4.1)\n",
            "Requirement already satisfied: rsa<5,>=3.1.4 in /usr/local/lib/python3.10/dist-packages (from google-auth<3,>=1.6.3->tensorboard<2.16,>=2.15->tensorflow==2.15.0) (4.9)\n",
            "Requirement already satisfied: requests-oauthlib>=0.7.0 in /usr/local/lib/python3.10/dist-packages (from google-auth-oauthlib<2,>=0.5->tensorboard<2.16,>=2.15->tensorflow==2.15.0) (1.3.1)\n",
            "Requirement already satisfied: charset-normalizer<4,>=2 in /usr/local/lib/python3.10/dist-packages (from requests<3,>=2.21.0->tensorboard<2.16,>=2.15->tensorflow==2.15.0) (3.3.2)\n",
            "Requirement already satisfied: idna<4,>=2.5 in /usr/local/lib/python3.10/dist-packages (from requests<3,>=2.21.0->tensorboard<2.16,>=2.15->tensorflow==2.15.0) (3.10)\n",
            "Requirement already satisfied: urllib3<3,>=1.21.1 in /usr/local/lib/python3.10/dist-packages (from requests<3,>=2.21.0->tensorboard<2.16,>=2.15->tensorflow==2.15.0) (2.2.3)\n",
            "Requirement already satisfied: certifi>=2017.4.17 in /usr/local/lib/python3.10/dist-packages (from requests<3,>=2.21.0->tensorboard<2.16,>=2.15->tensorflow==2.15.0) (2024.8.30)\n",
            "Requirement already satisfied: MarkupSafe>=2.1.1 in /usr/local/lib/python3.10/dist-packages (from werkzeug>=1.0.1->tensorboard<2.16,>=2.15->tensorflow==2.15.0) (2.1.5)\n",
            "Requirement already satisfied: pyasn1<0.7.0,>=0.4.6 in /usr/local/lib/python3.10/dist-packages (from pyasn1-modules>=0.2.1->google-auth<3,>=1.6.3->tensorboard<2.16,>=2.15->tensorflow==2.15.0) (0.6.1)\n",
            "Requirement already satisfied: oauthlib>=3.0.0 in /usr/local/lib/python3.10/dist-packages (from requests-oauthlib>=0.7.0->google-auth-oauthlib<2,>=0.5->tensorboard<2.16,>=2.15->tensorflow==2.15.0) (3.2.2)\n",
            "Downloading tensorflow-2.15.0-cp310-cp310-manylinux_2_17_x86_64.manylinux2014_x86_64.whl (475.2 MB)\n",
            "\u001b[2K   \u001b[90m━━━━━━━━━━━━━━━━━━━━━━━━━━━━━━━━━━━━━━━━\u001b[0m \u001b[32m475.2/475.2 MB\u001b[0m \u001b[31m1.6 MB/s\u001b[0m eta \u001b[36m0:00:00\u001b[0m\n",
            "\u001b[?25hDownloading keras-2.15.0-py3-none-any.whl (1.7 MB)\n",
            "\u001b[2K   \u001b[90m━━━━━━━━━━━━━━━━━━━━━━━━━━━━━━━━━━━━━━━━\u001b[0m \u001b[32m1.7/1.7 MB\u001b[0m \u001b[31m79.9 MB/s\u001b[0m eta \u001b[36m0:00:00\u001b[0m\n",
            "\u001b[?25hDownloading ml_dtypes-0.2.0-cp310-cp310-manylinux_2_17_x86_64.manylinux2014_x86_64.whl (1.0 MB)\n",
            "\u001b[2K   \u001b[90m━━━━━━━━━━━━━━━━━━━━━━━━━━━━━━━━━━━━━━━━\u001b[0m \u001b[32m1.0/1.0 MB\u001b[0m \u001b[31m57.3 MB/s\u001b[0m eta \u001b[36m0:00:00\u001b[0m\n",
            "\u001b[?25hDownloading tensorboard-2.15.2-py3-none-any.whl (5.5 MB)\n",
            "\u001b[2K   \u001b[90m━━━━━━━━━━━━━━━━━━━━━━━━━━━━━━━━━━━━━━━━\u001b[0m \u001b[32m5.5/5.5 MB\u001b[0m \u001b[31m99.7 MB/s\u001b[0m eta \u001b[36m0:00:00\u001b[0m\n",
            "\u001b[?25hDownloading tensorflow_estimator-2.15.0-py2.py3-none-any.whl (441 kB)\n",
            "\u001b[2K   \u001b[90m━━━━━━━━━━━━━━━━━━━━━━━━━━━━━━━━━━━━━━━━\u001b[0m \u001b[32m442.0/442.0 kB\u001b[0m \u001b[31m37.9 MB/s\u001b[0m eta \u001b[36m0:00:00\u001b[0m\n",
            "\u001b[?25hDownloading wrapt-1.14.1-cp310-cp310-manylinux_2_5_x86_64.manylinux1_x86_64.manylinux_2_17_x86_64.manylinux2014_x86_64.whl (77 kB)\n",
            "\u001b[2K   \u001b[90m━━━━━━━━━━━━━━━━━━━━━━━━━━━━━━━━━━━━━━━━\u001b[0m \u001b[32m77.9/77.9 kB\u001b[0m \u001b[31m7.4 MB/s\u001b[0m eta \u001b[36m0:00:00\u001b[0m\n",
            "\u001b[?25hInstalling collected packages: wrapt, tensorflow-estimator, ml-dtypes, keras, tensorboard, tensorflow\n",
            "  Attempting uninstall: wrapt\n",
            "    Found existing installation: wrapt 1.16.0\n",
            "    Uninstalling wrapt-1.16.0:\n",
            "      Successfully uninstalled wrapt-1.16.0\n",
            "  Attempting uninstall: ml-dtypes\n",
            "    Found existing installation: ml-dtypes 0.4.1\n",
            "    Uninstalling ml-dtypes-0.4.1:\n",
            "      Successfully uninstalled ml-dtypes-0.4.1\n",
            "  Attempting uninstall: keras\n",
            "    Found existing installation: keras 3.4.1\n",
            "    Uninstalling keras-3.4.1:\n",
            "      Successfully uninstalled keras-3.4.1\n",
            "  Attempting uninstall: tensorboard\n",
            "    Found existing installation: tensorboard 2.17.0\n",
            "    Uninstalling tensorboard-2.17.0:\n",
            "      Successfully uninstalled tensorboard-2.17.0\n",
            "  Attempting uninstall: tensorflow\n",
            "    Found existing installation: tensorflow 2.17.0\n",
            "    Uninstalling tensorflow-2.17.0:\n",
            "      Successfully uninstalled tensorflow-2.17.0\n",
            "\u001b[31mERROR: pip's dependency resolver does not currently take into account all the packages that are installed. This behaviour is the source of the following dependency conflicts.\n",
            "tensorstore 0.1.65 requires ml-dtypes>=0.3.1, but you have ml-dtypes 0.2.0 which is incompatible.\n",
            "tf-keras 2.17.0 requires tensorflow<2.18,>=2.17, but you have tensorflow 2.15.0 which is incompatible.\u001b[0m\u001b[31m\n",
            "\u001b[0mSuccessfully installed keras-2.15.0 ml-dtypes-0.2.0 tensorboard-2.15.2 tensorflow-2.15.0 tensorflow-estimator-2.15.0 wrapt-1.14.1\n",
            "Collecting tensorflow-quantum==0.7.3\n",
            "  Downloading tensorflow_quantum-0.7.3-cp310-cp310-manylinux_2_17_x86_64.manylinux2014_x86_64.whl.metadata (1.7 kB)\n",
            "Collecting cirq-core==1.3.0 (from tensorflow-quantum==0.7.3)\n",
            "  Downloading cirq_core-1.3.0-py3-none-any.whl.metadata (1.9 kB)\n",
            "Collecting cirq-google==1.3.0 (from tensorflow-quantum==0.7.3)\n",
            "  Downloading cirq_google-1.3.0-py3-none-any.whl.metadata (2.0 kB)\n",
            "Collecting sympy==1.12 (from tensorflow-quantum==0.7.3)\n",
            "  Downloading sympy-1.12-py3-none-any.whl.metadata (12 kB)\n",
            "Collecting duet~=0.2.8 (from cirq-core==1.3.0->tensorflow-quantum==0.7.3)\n",
            "  Downloading duet-0.2.9-py3-none-any.whl.metadata (2.3 kB)\n",
            "Requirement already satisfied: matplotlib~=3.0 in /usr/local/lib/python3.10/dist-packages (from cirq-core==1.3.0->tensorflow-quantum==0.7.3) (3.7.1)\n",
            "Requirement already satisfied: networkx>=2.4 in /usr/local/lib/python3.10/dist-packages (from cirq-core==1.3.0->tensorflow-quantum==0.7.3) (3.3)\n",
            "Requirement already satisfied: numpy~=1.16 in /usr/local/lib/python3.10/dist-packages (from cirq-core==1.3.0->tensorflow-quantum==0.7.3) (1.26.4)\n",
            "Requirement already satisfied: pandas in /usr/local/lib/python3.10/dist-packages (from cirq-core==1.3.0->tensorflow-quantum==0.7.3) (2.1.4)\n",
            "Requirement already satisfied: sortedcontainers~=2.0 in /usr/local/lib/python3.10/dist-packages (from cirq-core==1.3.0->tensorflow-quantum==0.7.3) (2.4.0)\n",
            "Requirement already satisfied: scipy in /usr/local/lib/python3.10/dist-packages (from cirq-core==1.3.0->tensorflow-quantum==0.7.3) (1.13.1)\n",
            "Requirement already satisfied: typing-extensions>=4.2 in /usr/local/lib/python3.10/dist-packages (from cirq-core==1.3.0->tensorflow-quantum==0.7.3) (4.12.2)\n",
            "Requirement already satisfied: tqdm in /usr/local/lib/python3.10/dist-packages (from cirq-core==1.3.0->tensorflow-quantum==0.7.3) (4.66.5)\n",
            "Requirement already satisfied: google-api-core>=1.14.0 in /usr/local/lib/python3.10/dist-packages (from google-api-core[grpc]>=1.14.0->cirq-google==1.3.0->tensorflow-quantum==0.7.3) (2.19.2)\n",
            "Requirement already satisfied: proto-plus>=1.20.0 in /usr/local/lib/python3.10/dist-packages (from cirq-google==1.3.0->tensorflow-quantum==0.7.3) (1.24.0)\n",
            "Requirement already satisfied: protobuf>=3.15.0 in /usr/local/lib/python3.10/dist-packages (from cirq-google==1.3.0->tensorflow-quantum==0.7.3) (3.20.3)\n",
            "Requirement already satisfied: mpmath>=0.19 in /usr/local/lib/python3.10/dist-packages (from sympy==1.12->tensorflow-quantum==0.7.3) (1.3.0)\n",
            "Requirement already satisfied: googleapis-common-protos<2.0.dev0,>=1.56.2 in /usr/local/lib/python3.10/dist-packages (from google-api-core>=1.14.0->google-api-core[grpc]>=1.14.0->cirq-google==1.3.0->tensorflow-quantum==0.7.3) (1.65.0)\n",
            "Requirement already satisfied: google-auth<3.0.dev0,>=2.14.1 in /usr/local/lib/python3.10/dist-packages (from google-api-core>=1.14.0->google-api-core[grpc]>=1.14.0->cirq-google==1.3.0->tensorflow-quantum==0.7.3) (2.27.0)\n",
            "Requirement already satisfied: requests<3.0.0.dev0,>=2.18.0 in /usr/local/lib/python3.10/dist-packages (from google-api-core>=1.14.0->google-api-core[grpc]>=1.14.0->cirq-google==1.3.0->tensorflow-quantum==0.7.3) (2.32.3)\n",
            "Requirement already satisfied: grpcio<2.0dev,>=1.33.2 in /usr/local/lib/python3.10/dist-packages (from google-api-core[grpc]>=1.14.0->cirq-google==1.3.0->tensorflow-quantum==0.7.3) (1.64.1)\n",
            "Requirement already satisfied: grpcio-status<2.0.dev0,>=1.33.2 in /usr/local/lib/python3.10/dist-packages (from google-api-core[grpc]>=1.14.0->cirq-google==1.3.0->tensorflow-quantum==0.7.3) (1.48.2)\n",
            "Requirement already satisfied: contourpy>=1.0.1 in /usr/local/lib/python3.10/dist-packages (from matplotlib~=3.0->cirq-core==1.3.0->tensorflow-quantum==0.7.3) (1.3.0)\n",
            "Requirement already satisfied: cycler>=0.10 in /usr/local/lib/python3.10/dist-packages (from matplotlib~=3.0->cirq-core==1.3.0->tensorflow-quantum==0.7.3) (0.12.1)\n",
            "Requirement already satisfied: fonttools>=4.22.0 in /usr/local/lib/python3.10/dist-packages (from matplotlib~=3.0->cirq-core==1.3.0->tensorflow-quantum==0.7.3) (4.53.1)\n",
            "Requirement already satisfied: kiwisolver>=1.0.1 in /usr/local/lib/python3.10/dist-packages (from matplotlib~=3.0->cirq-core==1.3.0->tensorflow-quantum==0.7.3) (1.4.7)\n",
            "Requirement already satisfied: packaging>=20.0 in /usr/local/lib/python3.10/dist-packages (from matplotlib~=3.0->cirq-core==1.3.0->tensorflow-quantum==0.7.3) (24.1)\n",
            "Requirement already satisfied: pillow>=6.2.0 in /usr/local/lib/python3.10/dist-packages (from matplotlib~=3.0->cirq-core==1.3.0->tensorflow-quantum==0.7.3) (10.4.0)\n",
            "Requirement already satisfied: pyparsing>=2.3.1 in /usr/local/lib/python3.10/dist-packages (from matplotlib~=3.0->cirq-core==1.3.0->tensorflow-quantum==0.7.3) (3.1.4)\n",
            "Requirement already satisfied: python-dateutil>=2.7 in /usr/local/lib/python3.10/dist-packages (from matplotlib~=3.0->cirq-core==1.3.0->tensorflow-quantum==0.7.3) (2.8.2)\n",
            "Requirement already satisfied: pytz>=2020.1 in /usr/local/lib/python3.10/dist-packages (from pandas->cirq-core==1.3.0->tensorflow-quantum==0.7.3) (2024.2)\n",
            "Requirement already satisfied: tzdata>=2022.1 in /usr/local/lib/python3.10/dist-packages (from pandas->cirq-core==1.3.0->tensorflow-quantum==0.7.3) (2024.1)\n",
            "Requirement already satisfied: cachetools<6.0,>=2.0.0 in /usr/local/lib/python3.10/dist-packages (from google-auth<3.0.dev0,>=2.14.1->google-api-core>=1.14.0->google-api-core[grpc]>=1.14.0->cirq-google==1.3.0->tensorflow-quantum==0.7.3) (5.5.0)\n",
            "Requirement already satisfied: pyasn1-modules>=0.2.1 in /usr/local/lib/python3.10/dist-packages (from google-auth<3.0.dev0,>=2.14.1->google-api-core>=1.14.0->google-api-core[grpc]>=1.14.0->cirq-google==1.3.0->tensorflow-quantum==0.7.3) (0.4.1)\n",
            "Requirement already satisfied: rsa<5,>=3.1.4 in /usr/local/lib/python3.10/dist-packages (from google-auth<3.0.dev0,>=2.14.1->google-api-core>=1.14.0->google-api-core[grpc]>=1.14.0->cirq-google==1.3.0->tensorflow-quantum==0.7.3) (4.9)\n",
            "Requirement already satisfied: six>=1.5 in /usr/local/lib/python3.10/dist-packages (from python-dateutil>=2.7->matplotlib~=3.0->cirq-core==1.3.0->tensorflow-quantum==0.7.3) (1.16.0)\n",
            "Requirement already satisfied: charset-normalizer<4,>=2 in /usr/local/lib/python3.10/dist-packages (from requests<3.0.0.dev0,>=2.18.0->google-api-core>=1.14.0->google-api-core[grpc]>=1.14.0->cirq-google==1.3.0->tensorflow-quantum==0.7.3) (3.3.2)\n",
            "Requirement already satisfied: idna<4,>=2.5 in /usr/local/lib/python3.10/dist-packages (from requests<3.0.0.dev0,>=2.18.0->google-api-core>=1.14.0->google-api-core[grpc]>=1.14.0->cirq-google==1.3.0->tensorflow-quantum==0.7.3) (3.10)\n",
            "Requirement already satisfied: urllib3<3,>=1.21.1 in /usr/local/lib/python3.10/dist-packages (from requests<3.0.0.dev0,>=2.18.0->google-api-core>=1.14.0->google-api-core[grpc]>=1.14.0->cirq-google==1.3.0->tensorflow-quantum==0.7.3) (2.2.3)\n",
            "Requirement already satisfied: certifi>=2017.4.17 in /usr/local/lib/python3.10/dist-packages (from requests<3.0.0.dev0,>=2.18.0->google-api-core>=1.14.0->google-api-core[grpc]>=1.14.0->cirq-google==1.3.0->tensorflow-quantum==0.7.3) (2024.8.30)\n",
            "Requirement already satisfied: pyasn1<0.7.0,>=0.4.6 in /usr/local/lib/python3.10/dist-packages (from pyasn1-modules>=0.2.1->google-auth<3.0.dev0,>=2.14.1->google-api-core>=1.14.0->google-api-core[grpc]>=1.14.0->cirq-google==1.3.0->tensorflow-quantum==0.7.3) (0.6.1)\n",
            "Downloading tensorflow_quantum-0.7.3-cp310-cp310-manylinux_2_17_x86_64.manylinux2014_x86_64.whl (12.8 MB)\n",
            "\u001b[2K   \u001b[90m━━━━━━━━━━━━━━━━━━━━━━━━━━━━━━━━━━━━━━━━\u001b[0m \u001b[32m12.8/12.8 MB\u001b[0m \u001b[31m98.9 MB/s\u001b[0m eta \u001b[36m0:00:00\u001b[0m\n",
            "\u001b[?25hDownloading cirq_core-1.3.0-py3-none-any.whl (1.8 MB)\n",
            "\u001b[2K   \u001b[90m━━━━━━━━━━━━━━━━━━━━━━━━━━━━━━━━━━━━━━━━\u001b[0m \u001b[32m1.8/1.8 MB\u001b[0m \u001b[31m76.8 MB/s\u001b[0m eta \u001b[36m0:00:00\u001b[0m\n",
            "\u001b[?25hDownloading cirq_google-1.3.0-py3-none-any.whl (598 kB)\n",
            "\u001b[2K   \u001b[90m━━━━━━━━━━━━━━━━━━━━━━━━━━━━━━━━━━━━━━━━\u001b[0m \u001b[32m598.8/598.8 kB\u001b[0m \u001b[31m37.5 MB/s\u001b[0m eta \u001b[36m0:00:00\u001b[0m\n",
            "\u001b[?25hDownloading sympy-1.12-py3-none-any.whl (5.7 MB)\n",
            "\u001b[2K   \u001b[90m━━━━━━━━━━━━━━━━━━━━━━━━━━━━━━━━━━━━━━━━\u001b[0m \u001b[32m5.7/5.7 MB\u001b[0m \u001b[31m84.5 MB/s\u001b[0m eta \u001b[36m0:00:00\u001b[0m\n",
            "\u001b[?25hDownloading duet-0.2.9-py3-none-any.whl (29 kB)\n",
            "Installing collected packages: sympy, duet, cirq-core, cirq-google, tensorflow-quantum\n",
            "  Attempting uninstall: sympy\n",
            "    Found existing installation: sympy 1.13.3\n",
            "    Uninstalling sympy-1.13.3:\n",
            "      Successfully uninstalled sympy-1.13.3\n",
            "Successfully installed cirq-core-1.3.0 cirq-google-1.3.0 duet-0.2.9 sympy-1.12 tensorflow-quantum-0.7.3\n"
          ]
        }
      ],
      "source": [
        "!pip install tensorflow==2.15.0\n",
        "!pip install tensorflow-quantum==0.7.3"
      ]
    },
    {
      "cell_type": "code",
      "source": [
        "# Update package resources to account for version changes.\n",
        "import importlib, pkg_resources\n",
        "importlib.reload(pkg_resources)"
      ],
      "metadata": {
        "colab": {
          "base_uri": "https://localhost:8080/"
        },
        "id": "EhGR4xEnLQqM",
        "outputId": "d01b664e-f3a5-4fc1-c2d6-0501c66720fc"
      },
      "execution_count": 2,
      "outputs": [
        {
          "output_type": "execute_result",
          "data": {
            "text/plain": [
              "<module 'pkg_resources' from '/usr/local/lib/python3.10/dist-packages/pkg_resources/__init__.py'>"
            ]
          },
          "metadata": {},
          "execution_count": 2
        }
      ]
    },
    {
      "cell_type": "code",
      "source": [
        "import tensorflow as tf\n",
        "import tensorflow_quantum as tfq\n",
        "\n",
        "import cirq\n",
        "import sympy\n",
        "import numpy as np\n",
        "import seaborn as sns\n",
        "import collections\n",
        "\n",
        "# visualization tools\n",
        "%matplotlib inline\n",
        "import matplotlib.pyplot as plt\n",
        "from cirq.contrib.svg import SVGCircuit"
      ],
      "metadata": {
        "id": "iveP0LUWLXys"
      },
      "execution_count": 3,
      "outputs": []
    },
    {
      "cell_type": "markdown",
      "source": [
        "This notebook is about a binary classifier that distinguishes between the digits 3 and 6, following Farhi et al"
      ],
      "metadata": {
        "id": "Uh4HLzdLLjAV"
      }
    },
    {
      "cell_type": "markdown",
      "source": [
        "# Data Handling"
      ],
      "metadata": {
        "id": "YVPIrftSMU0H"
      }
    },
    {
      "cell_type": "markdown",
      "source": [
        "This section covers the data handling that:\n",
        "\n",
        "1. Loads the raw data from Keras.\n",
        "2. Filters the dataset to only 3s and 6s.\n",
        "3. Downscales the images so they fit can fit in a quantum computer.\n",
        "4. Removes any contradictory examples.\n",
        "5. Converts the binary images to Cirq circuits.\n",
        "6. Converts the Cirq circuits to TensorFlow Quantum circuits."
      ],
      "metadata": {
        "id": "Oiktth-gMYuC"
      }
    },
    {
      "cell_type": "code",
      "source": [
        "(x_train, y_train), (x_test, y_test) = tf.keras.datasets.mnist.load_data()\n",
        "\n",
        "# Rescale the images from [0,255] to the [0.0,1.0] range.\n",
        "x_train, x_test = x_train[..., np.newaxis]/255.0, x_test[..., np.newaxis]/255.0\n",
        "\n",
        "print(\"Number of original training examples:\", len(x_train))\n",
        "print(\"Number of original test examples:\", len(x_test))"
      ],
      "metadata": {
        "colab": {
          "base_uri": "https://localhost:8080/"
        },
        "id": "IlVM915_Msc8",
        "outputId": "df7af750-a81d-4049-f79d-0c761f0e9440"
      },
      "execution_count": 4,
      "outputs": [
        {
          "output_type": "stream",
          "name": "stdout",
          "text": [
            "Downloading data from https://storage.googleapis.com/tensorflow/tf-keras-datasets/mnist.npz\n",
            "11490434/11490434 [==============================] - 1s 0us/step\n",
            "Number of original training examples: 60000\n",
            "Number of original test examples: 10000\n"
          ]
        }
      ]
    },
    {
      "cell_type": "code",
      "source": [
        "def filter_mnist_data(x,y):\n",
        "    keep = (y == 3) | (y == 6)\n",
        "    x, y = x[keep], y[keep]\n",
        "    y = y == 3\n",
        "    return x,y\n",
        "x_train, y_train = filter_mnist_data(x_train, y_train)\n",
        "x_test, y_test = filter_mnist_data(x_test, y_test)\n",
        "\n",
        "print(\"Number of filtered training examples:\", len(x_train))\n",
        "print(\"Number of filtered test examples:\", len(x_test))"
      ],
      "metadata": {
        "colab": {
          "base_uri": "https://localhost:8080/"
        },
        "id": "Yk30DVW3Mxde",
        "outputId": "60fe0d29-4edc-4e24-a429-848d6364b2e8"
      },
      "execution_count": 18,
      "outputs": [
        {
          "output_type": "stream",
          "name": "stdout",
          "text": [
            "Number of filtered training examples: 12049\n",
            "Number of filtered test examples: 1968\n"
          ]
        }
      ]
    },
    {
      "cell_type": "code",
      "source": [
        "print(y_train[15])\n",
        "\n",
        "plt.imshow(x_train[15, :, :, 0])\n",
        "plt.colorbar()"
      ],
      "metadata": {
        "colab": {
          "base_uri": "https://localhost:8080/",
          "height": 470
        },
        "id": "4W1BfXSTNsQF",
        "outputId": "b363c227-d5a3-4bba-cad3-dbd895676d47"
      },
      "execution_count": 19,
      "outputs": [
        {
          "output_type": "stream",
          "name": "stdout",
          "text": [
            "False\n"
          ]
        },
        {
          "output_type": "execute_result",
          "data": {
            "text/plain": [
              "<matplotlib.colorbar.Colorbar at 0x7d9939cb7e50>"
            ]
          },
          "metadata": {},
          "execution_count": 19
        },
        {
          "output_type": "display_data",
          "data": {
            "text/plain": [
              "<Figure size 640x480 with 2 Axes>"
            ],
            "image/png": "[encoded data removed]"
          },
          "metadata": {}
        }
      ]
    },
    {
      "cell_type": "markdown",
      "source": [
        "An image size of 28x28 **is much too large** for **current quantum computers**. Resize the image down to 4x4:"
      ],
      "metadata": {
        "id": "xUG8jAfrObGu"
      }
    },
    {
      "cell_type": "code",
      "source": [
        "x_train_small = tf.image.resize(x_train, (4,4)).numpy()\n",
        "x_test_small = tf.image.resize(x_test, (4,4)).numpy()"
      ],
      "metadata": {
        "id": "XxajDu8MOiHS"
      },
      "execution_count": 21,
      "outputs": []
    },
    {
      "cell_type": "code",
      "source": [
        "print(y_train[0])\n",
        "\n",
        "plt.imshow(x_train_small[0,:,:,0], vmin=0, vmax=1)\n",
        "plt.colorbar()"
      ],
      "metadata": {
        "colab": {
          "base_uri": "https://localhost:8080/",
          "height": 470
        },
        "id": "MRmbgYOKOk4H",
        "outputId": "05e5a5c1-419b-47ef-a0bd-1db4ae77b88b"
      },
      "execution_count": 22,
      "outputs": [
        {
          "output_type": "stream",
          "name": "stdout",
          "text": [
            "True\n"
          ]
        },
        {
          "output_type": "execute_result",
          "data": {
            "text/plain": [
              "<matplotlib.colorbar.Colorbar at 0x7d993ad2f670>"
            ]
          },
          "metadata": {},
          "execution_count": 22
        },
        {
          "output_type": "display_data",
          "data": {
            "text/plain": [
              "<Figure size 640x480 with 2 Axes>"
            ],
            "image/png": "[encoded data removed]"
          },
          "metadata": {}
        }
      ]
    },
    {
      "cell_type": "markdown",
      "source": [
        "From section 3.3 Learning to Distinguish Digits of Farhi et al., filter the dataset to remove images that are labeled as belonging to both classes."
      ],
      "metadata": {
        "id": "iw-xUSQvPXE6"
      }
    },
    {
      "cell_type": "code",
      "source": [
        "def remove_contradicting(xs, ys):\n",
        "    mapping = collections.defaultdict(set)\n",
        "    orig_x = {}\n",
        "    # Determine the set of labels for each unique image:\n",
        "    for x,y in zip(xs,ys):\n",
        "       orig_x[tuple(x.flatten())] = x\n",
        "       mapping[tuple(x.flatten())].add(y)\n",
        "\n",
        "    new_x = []\n",
        "    new_y = []\n",
        "    for flatten_x in mapping:\n",
        "      x = orig_x[flatten_x]\n",
        "      labels = mapping[flatten_x]\n",
        "      if len(labels) == 1:\n",
        "          new_x.append(x)\n",
        "          new_y.append(next(iter(labels)))\n",
        "      else:\n",
        "          print('Found more than 1 label for a single img: ',labels)\n",
        "          # Throw out images that match more than one label.\n",
        "          pass\n",
        "\n",
        "    num_uniq_3 = sum(1 for value in mapping.values() if len(value) == 1 and True in value)\n",
        "    num_uniq_6 = sum(1 for value in mapping.values() if len(value) == 1 and False in value)\n",
        "    num_uniq_both = sum(1 for value in mapping.values() if len(value) == 2)\n",
        "\n",
        "    print(\"Number of unique images:\", len(mapping.values()))\n",
        "    print(\"Number of unique 3s: \", num_uniq_3)\n",
        "    print(\"Number of unique 6s: \", num_uniq_6)\n",
        "    print(\"Number of unique contradicting labels (both 3 and 6): \", num_uniq_both)\n",
        "    print()\n",
        "    print(\"Initial number of images: \", len(xs))\n",
        "    print(\"Remaining non-contradicting unique images: \", len(new_x))\n",
        "\n",
        "    return np.array(new_x), np.array(new_y)"
      ],
      "metadata": {
        "id": "RpgIXc1JPTM5"
      },
      "execution_count": 23,
      "outputs": []
    },
    {
      "cell_type": "code",
      "source": [
        "x_train_nocon, y_train_nocon = remove_contradicting(x_train_small, y_train)"
      ],
      "metadata": {
        "colab": {
          "base_uri": "https://localhost:8080/"
        },
        "id": "oced2_gFPwQT",
        "outputId": "eed17af7-8883-4f79-d6ff-ad44caea0b83"
      },
      "execution_count": 24,
      "outputs": [
        {
          "output_type": "stream",
          "name": "stdout",
          "text": [
            "Found more than 1 label for a single img:  {False, True}\n",
            "Found more than 1 label for a single img:  {False, True}\n",
            "Found more than 1 label for a single img:  {False, True}\n",
            "Found more than 1 label for a single img:  {False, True}\n",
            "Found more than 1 label for a single img:  {False, True}\n",
            "Found more than 1 label for a single img:  {False, True}\n",
            "Found more than 1 label for a single img:  {False, True}\n",
            "Found more than 1 label for a single img:  {False, True}\n",
            "Found more than 1 label for a single img:  {False, True}\n",
            "Found more than 1 label for a single img:  {False, True}\n",
            "Found more than 1 label for a single img:  {False, True}\n",
            "Found more than 1 label for a single img:  {False, True}\n",
            "Found more than 1 label for a single img:  {False, True}\n",
            "Found more than 1 label for a single img:  {False, True}\n",
            "Found more than 1 label for a single img:  {False, True}\n",
            "Found more than 1 label for a single img:  {False, True}\n",
            "Found more than 1 label for a single img:  {False, True}\n",
            "Found more than 1 label for a single img:  {False, True}\n",
            "Found more than 1 label for a single img:  {False, True}\n",
            "Found more than 1 label for a single img:  {False, True}\n",
            "Found more than 1 label for a single img:  {False, True}\n",
            "Found more than 1 label for a single img:  {False, True}\n",
            "Found more than 1 label for a single img:  {False, True}\n",
            "Found more than 1 label for a single img:  {False, True}\n",
            "Found more than 1 label for a single img:  {False, True}\n",
            "Found more than 1 label for a single img:  {False, True}\n",
            "Found more than 1 label for a single img:  {False, True}\n",
            "Found more than 1 label for a single img:  {False, True}\n",
            "Found more than 1 label for a single img:  {False, True}\n",
            "Found more than 1 label for a single img:  {False, True}\n",
            "Found more than 1 label for a single img:  {False, True}\n",
            "Found more than 1 label for a single img:  {False, True}\n",
            "Found more than 1 label for a single img:  {False, True}\n",
            "Found more than 1 label for a single img:  {False, True}\n",
            "Found more than 1 label for a single img:  {False, True}\n",
            "Found more than 1 label for a single img:  {False, True}\n",
            "Found more than 1 label for a single img:  {False, True}\n",
            "Found more than 1 label for a single img:  {False, True}\n",
            "Found more than 1 label for a single img:  {False, True}\n",
            "Found more than 1 label for a single img:  {False, True}\n",
            "Found more than 1 label for a single img:  {False, True}\n",
            "Found more than 1 label for a single img:  {False, True}\n",
            "Found more than 1 label for a single img:  {False, True}\n",
            "Found more than 1 label for a single img:  {False, True}\n",
            "Found more than 1 label for a single img:  {False, True}\n",
            "Found more than 1 label for a single img:  {False, True}\n",
            "Found more than 1 label for a single img:  {False, True}\n",
            "Found more than 1 label for a single img:  {False, True}\n",
            "Found more than 1 label for a single img:  {False, True}\n",
            "Number of unique images: 10387\n",
            "Number of unique 3s:  4912\n",
            "Number of unique 6s:  5426\n",
            "Number of unique contradicting labels (both 3 and 6):  49\n",
            "\n",
            "Initial number of images:  12049\n",
            "Remaining non-contradicting unique images:  10338\n"
          ]
        }
      ]
    },
    {
      "cell_type": "markdown",
      "source": [
        "# Encode the data as quantum circuits"
      ],
      "metadata": {
        "id": "ui9BMwoEQDB3"
      }
    },
    {
      "cell_type": "markdown",
      "source": [
        "To process images using a quantum computer, Farhi et al. proposed **representing each pixel with a qubit**, with **the state depending on the value of the pixel**. The first step is to **convert to a binary encoding**."
      ],
      "metadata": {
        "id": "qz-9MXEvQOlB"
      }
    },
    {
      "cell_type": "code",
      "source": [
        "THRESHOLD = 0.5\n",
        "\n",
        "x_train_bin = np.array(x_train_nocon > THRESHOLD, dtype=np.float32)\n",
        "x_test_bin = np.array(x_test_small > THRESHOLD, dtype=np.float32)"
      ],
      "metadata": {
        "id": "x0YTYrvcQhf4"
      },
      "execution_count": 25,
      "outputs": []
    },
    {
      "cell_type": "code",
      "source": [
        "np.unique(x_train_bin)"
      ],
      "metadata": {
        "colab": {
          "base_uri": "https://localhost:8080/"
        },
        "id": "DZIhjtB9QjOC",
        "outputId": "fbaba37f-8d90-4cd0-db1e-d5130eb496df"
      },
      "execution_count": 28,
      "outputs": [
        {
          "output_type": "execute_result",
          "data": {
            "text/plain": [
              "array([0., 1.], dtype=float32)"
            ]
          },
          "metadata": {},
          "execution_count": 28
        }
      ]
    },
    {
      "cell_type": "markdown",
      "source": [
        "The binarization process might introduce new image duplicates that didn't exist before. These duplicates could correspond to different labels, which weren't a problem in the original data but become a problem after binarization."
      ],
      "metadata": {
        "id": "8kyT9RUzSsNK"
      }
    },
    {
      "cell_type": "code",
      "source": [
        "_ = remove_contradicting(x_train_bin, y_train_nocon)"
      ],
      "metadata": {
        "colab": {
          "base_uri": "https://localhost:8080/"
        },
        "id": "Yi8EtLbIS0iu",
        "outputId": "c7bde95a-42c0-4911-98a0-fdde1527a2a7"
      },
      "execution_count": 29,
      "outputs": [
        {
          "output_type": "stream",
          "name": "stdout",
          "text": [
            "Found more than 1 label for a single img:  {False, True}\n",
            "Found more than 1 label for a single img:  {False, True}\n",
            "Found more than 1 label for a single img:  {False, True}\n",
            "Found more than 1 label for a single img:  {False, True}\n",
            "Found more than 1 label for a single img:  {False, True}\n",
            "Found more than 1 label for a single img:  {False, True}\n",
            "Found more than 1 label for a single img:  {False, True}\n",
            "Found more than 1 label for a single img:  {False, True}\n",
            "Found more than 1 label for a single img:  {False, True}\n",
            "Found more than 1 label for a single img:  {False, True}\n",
            "Found more than 1 label for a single img:  {False, True}\n",
            "Found more than 1 label for a single img:  {False, True}\n",
            "Found more than 1 label for a single img:  {False, True}\n",
            "Found more than 1 label for a single img:  {False, True}\n",
            "Found more than 1 label for a single img:  {False, True}\n",
            "Found more than 1 label for a single img:  {False, True}\n",
            "Found more than 1 label for a single img:  {False, True}\n",
            "Found more than 1 label for a single img:  {False, True}\n",
            "Found more than 1 label for a single img:  {False, True}\n",
            "Found more than 1 label for a single img:  {False, True}\n",
            "Found more than 1 label for a single img:  {False, True}\n",
            "Found more than 1 label for a single img:  {False, True}\n",
            "Found more than 1 label for a single img:  {False, True}\n",
            "Found more than 1 label for a single img:  {False, True}\n",
            "Found more than 1 label for a single img:  {False, True}\n",
            "Found more than 1 label for a single img:  {False, True}\n",
            "Found more than 1 label for a single img:  {False, True}\n",
            "Found more than 1 label for a single img:  {False, True}\n",
            "Found more than 1 label for a single img:  {False, True}\n",
            "Found more than 1 label for a single img:  {False, True}\n",
            "Found more than 1 label for a single img:  {False, True}\n",
            "Found more than 1 label for a single img:  {False, True}\n",
            "Found more than 1 label for a single img:  {False, True}\n",
            "Found more than 1 label for a single img:  {False, True}\n",
            "Found more than 1 label for a single img:  {False, True}\n",
            "Found more than 1 label for a single img:  {False, True}\n",
            "Found more than 1 label for a single img:  {False, True}\n",
            "Found more than 1 label for a single img:  {False, True}\n",
            "Found more than 1 label for a single img:  {False, True}\n",
            "Found more than 1 label for a single img:  {False, True}\n",
            "Found more than 1 label for a single img:  {False, True}\n",
            "Found more than 1 label for a single img:  {False, True}\n",
            "Found more than 1 label for a single img:  {False, True}\n",
            "Found more than 1 label for a single img:  {False, True}\n",
            "Number of unique images: 193\n",
            "Number of unique 3s:  80\n",
            "Number of unique 6s:  69\n",
            "Number of unique contradicting labels (both 3 and 6):  44\n",
            "\n",
            "Initial number of images:  10338\n",
            "Remaining non-contradicting unique images:  149\n"
          ]
        }
      ]
    },
    {
      "cell_type": "markdown",
      "source": [
        "- By default, **qubits start in the |0⟩ state** (this is the standard initial state in most quantum computers).\n",
        "- Since qubits start in state |0⟩ by default, applying the X gate to the qubits associated with pixel values of 1 flips those qubits to the |1⟩ state. In this way, **the state** of each qubit reflects **the binary value** of the corresponding pixel in the image."
      ],
      "metadata": {
        "id": "sy8f0NZBV9ai"
      }
    },
    {
      "cell_type": "code",
      "source": [
        "def convert_pixels_to_cirq_circuit(image):\n",
        "  values=np.ndarray.flatten(image)\n",
        "  qubits = cirq.GridQubit.rect(4, 4)\n",
        "  #each qubit startS in the default state, which is |0⟩\n",
        "  circuit=cirq.Circuit()\n",
        "  for i,value in enumerate(values):\n",
        "    if value:\n",
        "      circuit.append(cirq.X(qubits[i]))\n",
        "  return circuit"
      ],
      "metadata": {
        "id": "jaxeZ71MTGnH"
      },
      "execution_count": 37,
      "outputs": []
    },
    {
      "cell_type": "code",
      "source": [
        "x_train_circuit = [convert_pixels_to_cirq_circuit(x) for x in x_train_bin]\n",
        "x_test_circuit = [convert_pixels_to_cirq_circuit(x) for x in x_test_bin]"
      ],
      "metadata": {
        "id": "egGrmcF4XjJy"
      },
      "execution_count": 38,
      "outputs": []
    },
    {
      "cell_type": "markdown",
      "source": [
        "**Convert these Cirq circuits to tensors for tfq**:"
      ],
      "metadata": {
        "id": "w80PjXzBXTDL"
      }
    },
    {
      "cell_type": "code",
      "source": [
        "x_train_tfcircuit=tfq.convert_to_tensor(x_train_circuit)\n",
        "x_test_tfcircuit=tfq.convert_to_tensor(x_test_circuit)"
      ],
      "metadata": {
        "id": "ZXVD0upSXXPR"
      },
      "execution_count": 39,
      "outputs": []
    },
    {
      "cell_type": "markdown",
      "source": [
        "# QNN"
      ],
      "metadata": {
        "id": "t3d1TmsyX8T9"
      }
    },
    {
      "cell_type": "markdown",
      "source": [
        "There is **little guidance** for a quantum circuit structure that **classifies images**. Since the classification is based on the **expectation of the readout qubit**, Farhi et al. propose using **two qubit gates**, with the readout qubit always acted upon."
      ],
      "metadata": {
        "id": "F2Y8XquZYqui"
      }
    },
    {
      "cell_type": "markdown",
      "source": [
        "The **readout** qubit is a special qubit that **collects or summarizes the information from the data qubits**. At the end of the quantum computation, the state of the readout qubit is measured to yield the output or classification result."
      ],
      "metadata": {
        "id": "w6WGrxX-bJbW"
      }
    },
    {
      "cell_type": "markdown",
      "source": [
        "##1- Build the model circuit"
      ],
      "metadata": {
        "id": "CVHadQx9Zqxo"
      }
    },
    {
      "cell_type": "markdown",
      "source": [
        "Each layer uses **nb_data_qubits instances** of the **same gate**, with **each of the data qubits acting on the readout qubit**."
      ],
      "metadata": {
        "id": "waQ85bcTZw6v"
      }
    },
    {
      "cell_type": "code",
      "source": [
        "class CircuitLayerBuilder():\n",
        "  def __init__(self,data_qubits,readout):\n",
        "    self.data_qubits=data_qubits\n",
        "    self.readout=readout\n",
        "  def add_layer(self,circuit,gate,prefix):\n",
        "    for i,qubit in enumerate(self.data_qubits):\n",
        "      symbol=sympy.Symbol(prefix+'-'+str(i))\n",
        "      circuit.append(gate(qubit,self.readout)**symbol)"
      ],
      "metadata": {
        "id": "49bE4r9tZwcy"
      },
      "execution_count": 55,
      "outputs": []
    },
    {
      "cell_type": "markdown",
      "source": [
        "##2- Create the quantum model"
      ],
      "metadata": {
        "id": "YEdSz6y2euhR"
      }
    },
    {
      "cell_type": "code",
      "source": [
        "def create_quantum_model():\n",
        "  data_qubits=cirq.GridQubit.rect(4,4)\n",
        "  readout_qubit=cirq.GridQubit(-1,-1)\n",
        "  circuit=cirq.Circuit()\n",
        "  circuit.append(cirq.X(readout_qubit))\n",
        "  circuit.append(cirq.H(readout_qubit))\n",
        "  circuit_builder=CircuitLayerBuilder(data_qubits,readout_qubit)\n",
        "  circuit_builder.add_layer(circuit,cirq.XX,\"xx1\")\n",
        "  circuit_builder.add_layer(circuit,cirq.ZZ,\"zz1\")\n",
        "  #put the readout in superposition again\n",
        "  circuit.append(cirq.H(readout_qubit))\n",
        "  #measure the readout qubit in the Z basis\n",
        "  measured_readout=cirq.Z(readout_qubit)\n",
        "  return circuit,measured_readout"
      ],
      "metadata": {
        "id": "tS5FsoOFeaPo"
      },
      "execution_count": 60,
      "outputs": []
    },
    {
      "cell_type": "code",
      "source": [
        "model_circuit, model_readout = create_quantum_model()"
      ],
      "metadata": {
        "id": "29_MIoLFgXO-"
      },
      "execution_count": 61,
      "outputs": []
    },
    {
      "cell_type": "markdown",
      "source": [
        "The **superposition state of the readout qubit** allows it to capture **the combined influence of the layers of gates** that have been applied to the data qubits. This is essential for tasks such as classification, where the output reflects the interactions between the data qubits."
      ],
      "metadata": {
        "id": "y_-yYdjEdmsj"
      }
    },
    {
      "cell_type": "markdown",
      "source": [
        "The operations performed by the circuit layers (like **cirq.XX and cirq.ZZ** )\n",
        " might **collapse the state of the readout qubit** or change its characteristics."
      ],
      "metadata": {
        "id": "L6_ywAKjeKUo"
      }
    },
    {
      "cell_type": "markdown",
      "source": [
        "By applying the **Hadamard gate again**, you are reestablishing a state of superposition, allowing the qubit to be influenced by the operations applied during the data processing."
      ],
      "metadata": {
        "id": "0XmrJrnkeTV6"
      }
    },
    {
      "cell_type": "markdown",
      "source": [
        "##3- Wrap the model-circuit in a tfq-keras model"
      ],
      "metadata": {
        "id": "HIyRjoMqgwCb"
      }
    },
    {
      "cell_type": "code",
      "source": [
        "model=tf.keras.Sequential([\n",
        "    tf.keras.layers.Input(shape=(),dtype=tf.dtypes.string),\n",
        "    tfq.layers.PQC(model_circuit,model_readout)\n",
        "]\n",
        ")"
      ],
      "metadata": {
        "colab": {
          "base_uri": "https://localhost:8080/"
        },
        "id": "l8XiTYK9jDQ0",
        "outputId": "4759be76-7812-4bc5-d35c-dc6f8660dd43"
      },
      "execution_count": 63,
      "outputs": [
        {
          "output_type": "stream",
          "name": "stderr",
          "text": [
            "/usr/local/lib/python3.10/dist-packages/keras/src/initializers/initializers.py:120: UserWarning: The initializer RandomUniform is unseeded and being called multiple times, which will return identical values each time (even if the initializer is unseeded). Please update your code to provide a seed to the initializer, or avoid using the same initializer instance more than once.\n",
            "  warnings.warn(\n"
          ]
        }
      ]
    },
    {
      "cell_type": "markdown",
      "source": [
        "**The PQC layer returns the expected value of the readout gate, range [-1,1].**"
      ],
      "metadata": {
        "id": "raIKRvwfjipv"
      }
    },
    {
      "cell_type": "markdown",
      "source": [
        "Since the the expected readout is in the range **[-1,1]**, optimizing the **hinge loss** is a somewhat natural fit."
      ],
      "metadata": {
        "id": "vLRT-PYzjlKg"
      }
    },
    {
      "cell_type": "markdown",
      "source": [
        "To use the hinge loss here we need to convert the labels, **from [0,1] to [-1,1]**, as expected by the hinge loss."
      ],
      "metadata": {
        "id": "EKRrZjHujlHE"
      }
    },
    {
      "cell_type": "code",
      "source": [
        "y_train_hinge = 2.0*y_train_nocon-1.0\n",
        "y_test_hinge = 2.0*y_test-1.0"
      ],
      "metadata": {
        "id": "C306el7BkpC1"
      },
      "execution_count": 64,
      "outputs": []
    },
    {
      "cell_type": "code",
      "source": [
        "def hinge_accuracy(y_true, y_pred):\n",
        "    y_true = tf.squeeze(y_true) > 0.0\n",
        "    y_pred = tf.squeeze(y_pred) > 0.0\n",
        "    result = tf.cast(y_true == y_pred, tf.float32)\n",
        "\n",
        "    return tf.reduce_mean(result)"
      ],
      "metadata": {
        "id": "qPG8jou3k8gP"
      },
      "execution_count": 65,
      "outputs": []
    },
    {
      "cell_type": "code",
      "source": [
        "model.compile(\n",
        "    loss=tf.keras.losses.Hinge(),\n",
        "    optimizer=tf.keras.optimizers.Adam(),\n",
        "    metrics=[hinge_accuracy])"
      ],
      "metadata": {
        "id": "mS4ypdNKk-30"
      },
      "execution_count": 66,
      "outputs": []
    },
    {
      "cell_type": "markdown",
      "source": [
        "##4- Train"
      ],
      "metadata": {
        "id": "XG7mcfPVlSJQ"
      }
    },
    {
      "cell_type": "markdown",
      "source": [
        "Now train the model—this takes about 45 min. If you don't want to wait that long, use a small subset of the data (set NUM_EXAMPLES=500, below). This doesn't really affect the model's progress during training (it only has 32 parameters, and doesn't need much data to constrain these). Using fewer examples just ends training earlier (5min), but runs long enough to show that it is making progress in the validation logs."
      ],
      "metadata": {
        "id": "QrAHtNI6lVQF"
      }
    },
    {
      "cell_type": "code",
      "source": [
        "len(x_train_tfcircuit)"
      ],
      "metadata": {
        "colab": {
          "base_uri": "https://localhost:8080/"
        },
        "id": "amKsMm-dliJO",
        "outputId": "a60bb531-c521-446e-dbf6-512344fac608"
      },
      "execution_count": 68,
      "outputs": [
        {
          "output_type": "execute_result",
          "data": {
            "text/plain": [
              "10338"
            ]
          },
          "metadata": {},
          "execution_count": 68
        }
      ]
    },
    {
      "cell_type": "code",
      "source": [
        "NUM_EXAMPLES = 500"
      ],
      "metadata": {
        "id": "lDBuZyLmlaxN"
      },
      "execution_count": 69,
      "outputs": []
    },
    {
      "cell_type": "code",
      "source": [
        "x_train_tfcirc_sub = x_train_tfcircuit[:NUM_EXAMPLES]\n",
        "y_train_hinge_sub = y_train_hinge[:NUM_EXAMPLES]"
      ],
      "metadata": {
        "id": "Fn3BTS-BlcDs"
      },
      "execution_count": 71,
      "outputs": []
    },
    {
      "cell_type": "code",
      "source": [
        "qnn_history = model.fit(\n",
        "      x_train_tfcirc_sub, y_train_hinge_sub,\n",
        "      batch_size=32,\n",
        "      epochs=3,\n",
        "      verbose=1,\n",
        "      validation_data=(x_test_tfcircuit, y_test_hinge))"
      ],
      "metadata": {
        "colab": {
          "base_uri": "https://localhost:8080/"
        },
        "id": "qgZN9wSAldT6",
        "outputId": "e876d993-f02b-43c8-d9ac-7eb2eed1a569"
      },
      "execution_count": 72,
      "outputs": [
        {
          "output_type": "stream",
          "name": "stdout",
          "text": [
            "Epoch 1/3\n",
            "16/16 [==============================] - 104s 6s/step - loss: 0.9995 - hinge_accuracy: 0.5781 - val_loss: 0.9985 - val_hinge_accuracy: 0.6159\n",
            "Epoch 2/3\n",
            "16/16 [==============================] - 87s 6s/step - loss: 0.9983 - hinge_accuracy: 0.6039 - val_loss: 0.9963 - val_hinge_accuracy: 0.6583\n",
            "Epoch 3/3\n",
            "16/16 [==============================] - 92s 6s/step - loss: 0.9950 - hinge_accuracy: 0.6195 - val_loss: 0.9904 - val_hinge_accuracy: 0.6799\n"
          ]
        }
      ]
    },
    {
      "cell_type": "code",
      "source": [
        "qnn_results = model.evaluate(x_test_tfcircuit, y_test)"
      ],
      "metadata": {
        "colab": {
          "base_uri": "https://localhost:8080/"
        },
        "id": "CSSUawn5luCs",
        "outputId": "ce14d9c3-00bf-4791-af01-7bf60c0b5807"
      },
      "execution_count": 73,
      "outputs": [
        {
          "output_type": "stream",
          "name": "stdout",
          "text": [
            "62/62 [==============================] - 36s 566ms/step - loss: 0.9904 - hinge_accuracy: 0.6799\n"
          ]
        }
      ]
    },
    {
      "cell_type": "markdown",
      "source": [
        "##5- Comparison to an equivalent classical NN (37 params)"
      ],
      "metadata": {
        "id": "C5E33HJCm22Z"
      }
    },
    {
      "cell_type": "code",
      "source": [
        "def create_fair_classical_model():\n",
        "    model = tf.keras.Sequential()\n",
        "    model.add(tf.keras.layers.Flatten(input_shape=(4,4,1)))\n",
        "    model.add(tf.keras.layers.Dense(2, activation='relu'))\n",
        "    model.add(tf.keras.layers.Dense(1))\n",
        "    return model\n",
        "\n",
        "\n",
        "model = create_fair_classical_model()\n",
        "model.compile(loss=tf.keras.losses.BinaryCrossentropy(from_logits=True),\n",
        "              optimizer=tf.keras.optimizers.Adam(),\n",
        "              metrics=['accuracy'])\n",
        "\n",
        "model.summary()"
      ],
      "metadata": {
        "colab": {
          "base_uri": "https://localhost:8080/"
        },
        "id": "N3DM2Q_VnDDP",
        "outputId": "6c7a0670-203a-4e3a-a195-099da791ed37"
      },
      "execution_count": 74,
      "outputs": [
        {
          "output_type": "stream",
          "name": "stdout",
          "text": [
            "Model: \"sequential_1\"\n",
            "_________________________________________________________________\n",
            " Layer (type)                Output Shape              Param #   \n",
            "=================================================================\n",
            " flatten (Flatten)           (None, 16)                0         \n",
            "                                                                 \n",
            " dense (Dense)               (None, 2)                 34        \n",
            "                                                                 \n",
            " dense_1 (Dense)             (None, 1)                 3         \n",
            "                                                                 \n",
            "=================================================================\n",
            "Total params: 37 (148.00 Byte)\n",
            "Trainable params: 37 (148.00 Byte)\n",
            "Non-trainable params: 0 (0.00 Byte)\n",
            "_________________________________________________________________\n"
          ]
        }
      ]
    },
    {
      "cell_type": "code",
      "source": [
        "model.fit(x_train_bin,\n",
        "          y_train_nocon,\n",
        "          batch_size=128,\n",
        "          epochs=20,\n",
        "          verbose=2,\n",
        "          validation_data=(x_test_bin, y_test))\n",
        "\n",
        "fair_nn_results = model.evaluate(x_test_bin, y_test)"
      ],
      "metadata": {
        "colab": {
          "base_uri": "https://localhost:8080/"
        },
        "id": "fj4pNKQZnHJa",
        "outputId": "a0453f36-22ac-4417-b8e1-720d55c2efed"
      },
      "execution_count": 75,
      "outputs": [
        {
          "output_type": "stream",
          "name": "stdout",
          "text": [
            "Epoch 1/20\n",
            "81/81 - 5s - loss: 0.5960 - accuracy: 0.5249 - val_loss: 0.5658 - val_accuracy: 0.4868 - 5s/epoch - 61ms/step\n",
            "Epoch 2/20\n",
            "81/81 - 0s - loss: 0.5479 - accuracy: 0.5249 - val_loss: 0.5208 - val_accuracy: 0.4868 - 479ms/epoch - 6ms/step\n",
            "Epoch 3/20\n",
            "81/81 - 1s - loss: 0.5073 - accuracy: 0.5249 - val_loss: 0.4833 - val_accuracy: 0.4868 - 540ms/epoch - 7ms/step\n",
            "Epoch 4/20\n",
            "81/81 - 0s - loss: 0.4731 - accuracy: 0.5249 - val_loss: 0.4522 - val_accuracy: 0.4868 - 472ms/epoch - 6ms/step\n",
            "Epoch 5/20\n",
            "81/81 - 1s - loss: 0.4445 - accuracy: 0.5249 - val_loss: 0.4254 - val_accuracy: 0.4868 - 525ms/epoch - 6ms/step\n",
            "Epoch 6/20\n",
            "81/81 - 0s - loss: 0.4195 - accuracy: 0.5249 - val_loss: 0.4015 - val_accuracy: 0.4868 - 497ms/epoch - 6ms/step\n",
            "Epoch 7/20\n",
            "81/81 - 1s - loss: 0.3985 - accuracy: 0.7748 - val_loss: 0.3826 - val_accuracy: 0.8196 - 505ms/epoch - 6ms/step\n",
            "Epoch 8/20\n",
            "81/81 - 0s - loss: 0.3818 - accuracy: 0.8401 - val_loss: 0.3674 - val_accuracy: 0.8374 - 447ms/epoch - 6ms/step\n",
            "Epoch 9/20\n",
            "81/81 - 1s - loss: 0.3678 - accuracy: 0.8524 - val_loss: 0.3542 - val_accuracy: 0.8836 - 509ms/epoch - 6ms/step\n",
            "Epoch 10/20\n",
            "81/81 - 1s - loss: 0.3559 - accuracy: 0.8688 - val_loss: 0.3429 - val_accuracy: 0.8857 - 552ms/epoch - 7ms/step\n",
            "Epoch 11/20\n",
            "81/81 - 1s - loss: 0.3452 - accuracy: 0.8768 - val_loss: 0.3324 - val_accuracy: 0.9029 - 511ms/epoch - 6ms/step\n",
            "Epoch 12/20\n",
            "81/81 - 1s - loss: 0.3355 - accuracy: 0.8835 - val_loss: 0.3230 - val_accuracy: 0.9075 - 521ms/epoch - 6ms/step\n",
            "Epoch 13/20\n",
            "81/81 - 0s - loss: 0.3268 - accuracy: 0.8851 - val_loss: 0.3146 - val_accuracy: 0.9080 - 481ms/epoch - 6ms/step\n",
            "Epoch 14/20\n",
            "81/81 - 1s - loss: 0.3189 - accuracy: 0.8853 - val_loss: 0.3067 - val_accuracy: 0.9080 - 644ms/epoch - 8ms/step\n",
            "Epoch 15/20\n",
            "81/81 - 0s - loss: 0.3118 - accuracy: 0.8866 - val_loss: 0.3000 - val_accuracy: 0.9090 - 445ms/epoch - 5ms/step\n",
            "Epoch 16/20\n",
            "81/81 - 1s - loss: 0.3054 - accuracy: 0.8872 - val_loss: 0.2938 - val_accuracy: 0.9085 - 530ms/epoch - 7ms/step\n",
            "Epoch 17/20\n",
            "81/81 - 1s - loss: 0.2996 - accuracy: 0.8878 - val_loss: 0.2882 - val_accuracy: 0.9101 - 517ms/epoch - 6ms/step\n",
            "Epoch 18/20\n",
            "81/81 - 1s - loss: 0.2943 - accuracy: 0.8884 - val_loss: 0.2833 - val_accuracy: 0.9101 - 523ms/epoch - 6ms/step\n",
            "Epoch 19/20\n",
            "81/81 - 0s - loss: 0.2894 - accuracy: 0.8885 - val_loss: 0.2785 - val_accuracy: 0.9101 - 439ms/epoch - 5ms/step\n",
            "Epoch 20/20\n",
            "81/81 - 1s - loss: 0.2848 - accuracy: 0.8934 - val_loss: 0.2742 - val_accuracy: 0.9121 - 666ms/epoch - 8ms/step\n",
            "62/62 [==============================] - 0s 6ms/step - loss: 0.2742 - accuracy: 0.9121\n"
          ]
        }
      ]
    },
    {
      "cell_type": "markdown",
      "source": [
        "The **classical model of similar power (~32 parameters)** trains to a **similar accuracy** in **a fraction of the time (with a higher nb of epochs)**. One way or the other, the classical neural network easily outperforms the quantum neural network. For classical data, it is difficult to beat a classical neural network."
      ],
      "metadata": {
        "id": "fGDxCi6InOZW"
      }
    }
  ]
}